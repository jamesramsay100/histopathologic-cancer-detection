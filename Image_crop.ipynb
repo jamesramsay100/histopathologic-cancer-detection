{
 "cells": [
  {
   "cell_type": "code",
   "execution_count": 1,
   "metadata": {},
   "outputs": [],
   "source": [
    "from PIL import Image\n",
    "import os.path, sys\n",
    "from tqdm import tqdm"
   ]
  },
  {
   "cell_type": "code",
   "execution_count": 2,
   "metadata": {},
   "outputs": [],
   "source": [
    "path = '/home/jramsay/train_img_crop/'\n",
    "dirs = os.listdir(path)\n",
    "\n",
    "# Crop images so they only have central 32x32 square +1 one row of pixels\n",
    "def crop():\n",
    "    for item in tqdm(dirs):\n",
    "        fullpath = os.path.join(path,item)         #corrected\n",
    "        if os.path.isfile(fullpath):\n",
    "            im = Image.open(fullpath)\n",
    "            w, h = im.size\n",
    "            f, e = os.path.splitext(fullpath)\n",
    "            imCrop = im.crop((31, 31, 65, 65)) #corrected\n",
    "            imCrop.save(f + '.tif', \"TIFF\")"
   ]
  },
  {
   "cell_type": "code",
   "execution_count": 3,
   "metadata": {},
   "outputs": [
    {
     "name": "stderr",
     "output_type": "stream",
     "text": [
      "100%|██████████| 220025/220025 [1:20:14<00:00, 40.09it/s]\n"
     ]
    }
   ],
   "source": [
    "crop()"
   ]
  },
  {
   "cell_type": "code",
   "execution_count": null,
   "metadata": {},
   "outputs": [],
   "source": [
    "# sudo cp -a ~/train_img/. ~/train_img_crop/\n",
    "# sudo mkdir train_img_crop"
   ]
  }
 ],
 "metadata": {
  "kernelspec": {
   "display_name": "Python 3",
   "language": "python",
   "name": "python3"
  },
  "language_info": {
   "codemirror_mode": {
    "name": "ipython",
    "version": 3
   },
   "file_extension": ".py",
   "mimetype": "text/x-python",
   "name": "python",
   "nbconvert_exporter": "python",
   "pygments_lexer": "ipython3",
   "version": "3.7.2"
  }
 },
 "nbformat": 4,
 "nbformat_minor": 2
}
